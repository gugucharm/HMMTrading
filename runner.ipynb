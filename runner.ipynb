{
 "cells": [
  {
   "cell_type": "code",
   "execution_count": 1,
   "id": "5c2f6740-c1ca-4fbe-98e5-f03ae7036537",
   "metadata": {},
   "outputs": [
    {
     "name": "stdout",
     "output_type": "stream",
     "text": [
      "Requirement already satisfied: pandas in c:\\users\\gugu\\anaconda3\\lib\\site-packages (from -r requirements.txt (line 1)) (2.2.3)\n",
      "Requirement already satisfied: numpy in c:\\users\\gugu\\anaconda3\\lib\\site-packages (from -r requirements.txt (line 2)) (1.26.4)\n",
      "Requirement already satisfied: matplotlib in c:\\users\\gugu\\anaconda3\\lib\\site-packages (from -r requirements.txt (line 3)) (3.9.2)\n",
      "Requirement already satisfied: hmmlearn in c:\\users\\gugu\\anaconda3\\lib\\site-packages (from -r requirements.txt (line 4)) (0.3.3)\n",
      "Requirement already satisfied: pandas-datareader in c:\\users\\gugu\\anaconda3\\lib\\site-packages (from -r requirements.txt (line 5)) (0.10.0)\n",
      "Requirement already satisfied: yfinance in c:\\users\\gugu\\anaconda3\\lib\\site-packages (from -r requirements.txt (line 6)) (0.2.54)\n",
      "Requirement already satisfied: pushbullet.py in c:\\users\\gugu\\anaconda3\\lib\\site-packages (from -r requirements.txt (line 7)) (0.12.0)\n",
      "Requirement already satisfied: python-dateutil>=2.8.2 in c:\\users\\gugu\\anaconda3\\lib\\site-packages (from pandas->-r requirements.txt (line 1)) (2.9.0.post0)\n",
      "Requirement already satisfied: pytz>=2020.1 in c:\\users\\gugu\\anaconda3\\lib\\site-packages (from pandas->-r requirements.txt (line 1)) (2024.1)\n",
      "Requirement already satisfied: tzdata>=2022.7 in c:\\users\\gugu\\anaconda3\\lib\\site-packages (from pandas->-r requirements.txt (line 1)) (2023.3)\n",
      "Requirement already satisfied: contourpy>=1.0.1 in c:\\users\\gugu\\anaconda3\\lib\\site-packages (from matplotlib->-r requirements.txt (line 3)) (1.2.0)\n",
      "Requirement already satisfied: cycler>=0.10 in c:\\users\\gugu\\anaconda3\\lib\\site-packages (from matplotlib->-r requirements.txt (line 3)) (0.11.0)\n",
      "Requirement already satisfied: fonttools>=4.22.0 in c:\\users\\gugu\\anaconda3\\lib\\site-packages (from matplotlib->-r requirements.txt (line 3)) (4.51.0)\n",
      "Requirement already satisfied: kiwisolver>=1.3.1 in c:\\users\\gugu\\anaconda3\\lib\\site-packages (from matplotlib->-r requirements.txt (line 3)) (1.4.4)\n",
      "Requirement already satisfied: packaging>=20.0 in c:\\users\\gugu\\anaconda3\\lib\\site-packages (from matplotlib->-r requirements.txt (line 3)) (24.1)\n",
      "Requirement already satisfied: pillow>=8 in c:\\users\\gugu\\anaconda3\\lib\\site-packages (from matplotlib->-r requirements.txt (line 3)) (10.4.0)\n",
      "Requirement already satisfied: pyparsing>=2.3.1 in c:\\users\\gugu\\anaconda3\\lib\\site-packages (from matplotlib->-r requirements.txt (line 3)) (3.1.2)\n",
      "Requirement already satisfied: scikit-learn!=0.22.0,>=0.16 in c:\\users\\gugu\\anaconda3\\lib\\site-packages (from hmmlearn->-r requirements.txt (line 4)) (1.5.1)\n",
      "Requirement already satisfied: scipy>=0.19 in c:\\users\\gugu\\anaconda3\\lib\\site-packages (from hmmlearn->-r requirements.txt (line 4)) (1.13.1)\n",
      "Requirement already satisfied: lxml in c:\\users\\gugu\\anaconda3\\lib\\site-packages (from pandas-datareader->-r requirements.txt (line 5)) (5.2.1)\n",
      "Requirement already satisfied: requests>=2.19.0 in c:\\users\\gugu\\anaconda3\\lib\\site-packages (from pandas-datareader->-r requirements.txt (line 5)) (2.32.3)\n",
      "Requirement already satisfied: multitasking>=0.0.7 in c:\\users\\gugu\\anaconda3\\lib\\site-packages (from yfinance->-r requirements.txt (line 6)) (0.0.11)\n",
      "Requirement already satisfied: platformdirs>=2.0.0 in c:\\users\\gugu\\anaconda3\\lib\\site-packages (from yfinance->-r requirements.txt (line 6)) (3.10.0)\n",
      "Requirement already satisfied: frozendict>=2.3.4 in c:\\users\\gugu\\anaconda3\\lib\\site-packages (from yfinance->-r requirements.txt (line 6)) (2.4.2)\n",
      "Requirement already satisfied: peewee>=3.16.2 in c:\\users\\gugu\\anaconda3\\lib\\site-packages (from yfinance->-r requirements.txt (line 6)) (3.17.8)\n",
      "Requirement already satisfied: beautifulsoup4>=4.11.1 in c:\\users\\gugu\\anaconda3\\lib\\site-packages (from yfinance->-r requirements.txt (line 6)) (4.12.3)\n",
      "Requirement already satisfied: python-magic in c:\\users\\gugu\\anaconda3\\lib\\site-packages (from pushbullet.py->-r requirements.txt (line 7)) (0.4.27)\n",
      "Requirement already satisfied: websocket-client>=0.53.0 in c:\\users\\gugu\\anaconda3\\lib\\site-packages (from pushbullet.py->-r requirements.txt (line 7)) (1.8.0)\n",
      "Requirement already satisfied: soupsieve>1.2 in c:\\users\\gugu\\anaconda3\\lib\\site-packages (from beautifulsoup4>=4.11.1->yfinance->-r requirements.txt (line 6)) (2.5)\n",
      "Requirement already satisfied: six>=1.5 in c:\\users\\gugu\\anaconda3\\lib\\site-packages (from python-dateutil>=2.8.2->pandas->-r requirements.txt (line 1)) (1.16.0)\n",
      "Requirement already satisfied: charset-normalizer<4,>=2 in c:\\users\\gugu\\anaconda3\\lib\\site-packages (from requests>=2.19.0->pandas-datareader->-r requirements.txt (line 5)) (3.3.2)\n",
      "Requirement already satisfied: idna<4,>=2.5 in c:\\users\\gugu\\anaconda3\\lib\\site-packages (from requests>=2.19.0->pandas-datareader->-r requirements.txt (line 5)) (3.7)\n",
      "Requirement already satisfied: urllib3<3,>=1.21.1 in c:\\users\\gugu\\anaconda3\\lib\\site-packages (from requests>=2.19.0->pandas-datareader->-r requirements.txt (line 5)) (2.2.3)\n",
      "Requirement already satisfied: certifi>=2017.4.17 in c:\\users\\gugu\\anaconda3\\lib\\site-packages (from requests>=2.19.0->pandas-datareader->-r requirements.txt (line 5)) (2024.8.30)\n",
      "Requirement already satisfied: joblib>=1.2.0 in c:\\users\\gugu\\anaconda3\\lib\\site-packages (from scikit-learn!=0.22.0,>=0.16->hmmlearn->-r requirements.txt (line 4)) (1.4.2)\n",
      "Requirement already satisfied: threadpoolctl>=3.1.0 in c:\\users\\gugu\\anaconda3\\lib\\site-packages (from scikit-learn!=0.22.0,>=0.16->hmmlearn->-r requirements.txt (line 4)) (3.5.0)\n",
      "Requirement already satisfied: yfinance in c:\\users\\gugu\\anaconda3\\lib\\site-packages (0.2.54)\n",
      "Requirement already satisfied: pandas>=1.3.0 in c:\\users\\gugu\\anaconda3\\lib\\site-packages (from yfinance) (2.2.3)\n",
      "Requirement already satisfied: numpy>=1.16.5 in c:\\users\\gugu\\anaconda3\\lib\\site-packages (from yfinance) (1.26.4)\n",
      "Requirement already satisfied: requests>=2.31 in c:\\users\\gugu\\anaconda3\\lib\\site-packages (from yfinance) (2.32.3)\n",
      "Requirement already satisfied: multitasking>=0.0.7 in c:\\users\\gugu\\anaconda3\\lib\\site-packages (from yfinance) (0.0.11)\n",
      "Requirement already satisfied: platformdirs>=2.0.0 in c:\\users\\gugu\\anaconda3\\lib\\site-packages (from yfinance) (3.10.0)\n",
      "Requirement already satisfied: pytz>=2022.5 in c:\\users\\gugu\\anaconda3\\lib\\site-packages (from yfinance) (2024.1)\n",
      "Requirement already satisfied: frozendict>=2.3.4 in c:\\users\\gugu\\anaconda3\\lib\\site-packages (from yfinance) (2.4.2)\n",
      "Requirement already satisfied: peewee>=3.16.2 in c:\\users\\gugu\\anaconda3\\lib\\site-packages (from yfinance) (3.17.8)\n",
      "Requirement already satisfied: beautifulsoup4>=4.11.1 in c:\\users\\gugu\\anaconda3\\lib\\site-packages (from yfinance) (4.12.3)\n",
      "Requirement already satisfied: soupsieve>1.2 in c:\\users\\gugu\\anaconda3\\lib\\site-packages (from beautifulsoup4>=4.11.1->yfinance) (2.5)\n",
      "Requirement already satisfied: python-dateutil>=2.8.2 in c:\\users\\gugu\\anaconda3\\lib\\site-packages (from pandas>=1.3.0->yfinance) (2.9.0.post0)\n",
      "Requirement already satisfied: tzdata>=2022.7 in c:\\users\\gugu\\anaconda3\\lib\\site-packages (from pandas>=1.3.0->yfinance) (2023.3)\n",
      "Requirement already satisfied: charset-normalizer<4,>=2 in c:\\users\\gugu\\anaconda3\\lib\\site-packages (from requests>=2.31->yfinance) (3.3.2)\n",
      "Requirement already satisfied: idna<4,>=2.5 in c:\\users\\gugu\\anaconda3\\lib\\site-packages (from requests>=2.31->yfinance) (3.7)\n",
      "Requirement already satisfied: urllib3<3,>=1.21.1 in c:\\users\\gugu\\anaconda3\\lib\\site-packages (from requests>=2.31->yfinance) (2.2.3)\n",
      "Requirement already satisfied: certifi>=2017.4.17 in c:\\users\\gugu\\anaconda3\\lib\\site-packages (from requests>=2.31->yfinance) (2024.8.30)\n",
      "Requirement already satisfied: six>=1.5 in c:\\users\\gugu\\anaconda3\\lib\\site-packages (from python-dateutil>=2.8.2->pandas>=1.3.0->yfinance) (1.16.0)\n"
     ]
    }
   ],
   "source": [
    "%run imports.ipynb\n",
    "%run functions.ipynb"
   ]
  },
  {
   "cell_type": "code",
   "execution_count": 2,
   "id": "9ec6d51c-3bd2-4457-9a7b-4240d83c0419",
   "metadata": {},
   "outputs": [
    {
     "data": {
      "text/plain": [
       "{'active': True,\n",
       " 'iden': 'ujxm56WWUWOsjB3epQXS0a',\n",
       " 'created': 1741896977.647508,\n",
       " 'modified': 1741896977.647508,\n",
       " 'type': 'note',\n",
       " 'dismissed': False,\n",
       " 'direction': 'self',\n",
       " 'sender_iden': 'ujxm56WWUWO',\n",
       " 'sender_email': 'maksmikie2001@gmail.com',\n",
       " 'sender_email_normalized': 'maksmikie2001@gmail.com',\n",
       " 'sender_name': 'Maksymilian Mikiewicz',\n",
       " 'receiver_iden': 'ujxm56WWUWO',\n",
       " 'receiver_email': 'maksmikie2001@gmail.com',\n",
       " 'receiver_email_normalized': 'maksmikie2001@gmail.com',\n",
       " 'title': 'Kto sieje wiatr, ten zbiera burzę',\n",
       " 'body': 'runner',\n",
       " 'rate_limit': {'reset': '1741900395',\n",
       "  'limit': '131072',\n",
       "  'remaining': '131022'}}"
      ]
     },
     "execution_count": 2,
     "metadata": {},
     "output_type": "execute_result"
    }
   ],
   "source": [
    "counter = 0\n",
    "flag = 1\n",
    "start_date = \"2014-09-17\"\n",
    "end_date = \"2025-12-31\"\n",
    "symbol = \"BTC-USD\"\n",
    "last_state = None\n",
    "pb.push_note(\"Kto sieje wiatr, ten zbiera burzę\", \"runner\")"
   ]
  },
  {
   "cell_type": "code",
   "execution_count": null,
   "id": "dc706e43-ad29-4d46-9b4f-ff993efe907b",
   "metadata": {
    "scrolled": true
   },
   "outputs": [
    {
     "name": "stdout",
     "output_type": "stream",
     "text": [
      "YF.download() has changed argument auto_adjust default to True\n"
     ]
    },
    {
     "name": "stderr",
     "output_type": "stream",
     "text": [
      "[*********************100%***********************]  1 of 1 completed\n",
      "[*********************100%***********************]  1 of 1 completed\n",
      "[*********************100%***********************]  1 of 1 completed\n",
      "[*********************100%***********************]  1 of 1 completed\n",
      "[*********************100%***********************]  1 of 1 completed\n",
      "[*********************100%***********************]  1 of 1 completed\n",
      "[*********************100%***********************]  1 of 1 completed\n",
      "[*********************100%***********************]  1 of 1 completed\n",
      "[*********************100%***********************]  1 of 1 completed\n",
      "[*********************100%***********************]  1 of 1 completed\n",
      "[*********************100%***********************]  1 of 1 completed\n",
      "[*********************100%***********************]  1 of 1 completed\n",
      "[*********************100%***********************]  1 of 1 completed\n",
      "[*********************100%***********************]  1 of 1 completed\n"
     ]
    }
   ],
   "source": [
    "while True:\n",
    "    try:\n",
    "        df = yf.download(symbol, start=start_date, end=end_date)\n",
    "        df = dropping(df)\n",
    "        \n",
    "        df = returns(df)\n",
    "        df.dropna(inplace=True)\n",
    "        df = calculate_rsi(df)\n",
    "        \n",
    "        hidden_states = HMM(df)\n",
    "        df[\"HMM\"] = state_sorting(hidden_states, 0)\n",
    "        \n",
    "        recent_states = df[\"HMM\"].tail(10)\n",
    "        today_state = df[\"HMM\"].iloc[-1]\n",
    "        \n",
    "        last_state = printing_change_of_state(df, last_state, flag, recent_states, today_state)\n",
    "        counter = counter_printing(counter, recent_states)\n",
    "        flag = first_iteration(flag)\n",
    "        \n",
    "        time.sleep(180)\n",
    "\n",
    "    except ValueError as e:\n",
    "        print(f\"Calculation error: {str(e)}\")\n",
    "    except RuntimeError as e:\n",
    "        print(f\"Runtime error: {str(e)}\")\n",
    "    except Exception as e:\n",
    "        error_time = time_now()\n",
    "        try:\n",
    "            pb.push_note(\"HMM Script Error (runner)\", f\"[{error_time}] Error: {str(e)}\")\n",
    "        except Exception as push_error:\n",
    "            print(f\"Pushbullet notification failed: {push_error}\")\n",
    "        print(f\"Error: {str(e)}\")\n"
   ]
  }
 ],
 "metadata": {
  "kernelspec": {
   "display_name": "Python 3 (ipykernel)",
   "language": "python",
   "name": "python3"
  },
  "language_info": {
   "codemirror_mode": {
    "name": "ipython",
    "version": 3
   },
   "file_extension": ".py",
   "mimetype": "text/x-python",
   "name": "python",
   "nbconvert_exporter": "python",
   "pygments_lexer": "ipython3",
   "version": "3.12.7"
  }
 },
 "nbformat": 4,
 "nbformat_minor": 5
}
